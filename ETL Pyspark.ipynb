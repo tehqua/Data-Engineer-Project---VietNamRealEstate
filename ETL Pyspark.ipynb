{
 "cells": [
  {
   "cell_type": "code",
   "execution_count": 19,
   "metadata": {},
   "outputs": [],
   "source": [
    "#Import thu vien\n",
    "from pyspark.sql.functions import avg, count, round, split, col, count, when, udf, regexp_replace\n",
    "from pyspark.sql.types import FloatType\n",
    "import re"
   ]
  },
  {
   "cell_type": "code",
   "execution_count": 20,
   "metadata": {},
   "outputs": [],
   "source": [
    "# Khởi tạo Spark session\n",
    "from pyspark.sql import SparkSession\n",
    "\n",
    "\n",
    "from pyspark.sql import SparkSession\n",
    "\n",
    "# Tạo Spark session\n",
    "spark = SparkSession.builder \\\n",
    "    .appName(\"PySpark ETL Main\") \\\n",
    "    .getOrCreate()"
   ]
  },
  {
   "cell_type": "code",
   "execution_count": 21,
   "metadata": {},
   "outputs": [
    {
     "data": {
      "text/plain": [
       "[('Type', 'string'),\n",
       " ('Price', 'string'),\n",
       " ('Area', 'string'),\n",
       " ('Place', 'string'),\n",
       " ('Link', 'string'),\n",
       " ('Updated Day', 'date')]"
      ]
     },
     "execution_count": 21,
     "metadata": {},
     "output_type": "execute_result"
    }
   ],
   "source": [
    "df_csv = spark.read.csv(\"C:\\\\Users\\\\PC\\\\Downloads\\\\lmq0411_2024-10-12.csv\", header=True, inferSchema=True)\n",
    "df_csv.dtypes"
   ]
  },
  {
   "cell_type": "code",
   "execution_count": 22,
   "metadata": {},
   "outputs": [],
   "source": [
    "# Làm phẳng dữ liệu \n",
    "df = df_csv.select(\n",
    "    col(\"Type\").alias(\"Type\"),\n",
    "    col(\"Price\").alias(\"Price_million_VND\"),\n",
    "    col(\"Area\").alias(\"Area_m2\"),\n",
    "    col(\"Place\").alias(\"Place\"),\n",
    "    col(\"Link\").alias(\"Link\"),\n",
    "    col(\"Updated Day\").alias(\"Updated_Day\"),\n",
    ")\n"
   ]
  },
  {
   "cell_type": "code",
   "execution_count": 23,
   "metadata": {},
   "outputs": [
    {
     "name": "stdout",
     "output_type": "stream",
     "text": [
      "root\n",
      " |-- Type: string (nullable = true)\n",
      " |-- Price_million_VND: string (nullable = true)\n",
      " |-- Area_m2: string (nullable = true)\n",
      " |-- Place: string (nullable = true)\n",
      " |-- Link: string (nullable = true)\n",
      " |-- Updated_Day: date (nullable = true)\n",
      "\n"
     ]
    }
   ],
   "source": [
    "df.printSchema()"
   ]
  },
  {
   "cell_type": "code",
   "execution_count": 24,
   "metadata": {},
   "outputs": [
    {
     "name": "stdout",
     "output_type": "stream",
     "text": [
      "+----+-----------------+-------+-----+----+-----------+\n",
      "|Type|Price_million_VND|Area_m2|Place|Link|Updated_Day|\n",
      "+----+-----------------+-------+-----+----+-----------+\n",
      "|   0|                0|      0|    0|   0|          0|\n",
      "+----+-----------------+-------+-----+----+-----------+\n",
      "\n"
     ]
    }
   ],
   "source": [
    "# Kiểm tra số lượng giá trị null\n",
    "null_counts = df.select([count(when(col(c).isNull(), c)).alias(c) for c in df.columns]).show()\n",
    "# Loại bỏ hàng có giá trị null\n",
    "df = df.dropna()"
   ]
  },
  {
   "cell_type": "code",
   "execution_count": 25,
   "metadata": {},
   "outputs": [],
   "source": [
    "# Loại bỏ các hàng trùng lặp\n",
    "df = df.dropDuplicates()"
   ]
  },
  {
   "cell_type": "code",
   "execution_count": 26,
   "metadata": {},
   "outputs": [],
   "source": [
    "# Lọc ra các dòng mà cột 'Price' không phải là 'Giá thỏa thuận' và \"1.038,02 tỷ\"\n",
    "df = df.filter(col('Price_million_VND') != 'Giá thỏa thuận')\n",
    "df = df.filter(col('Price_million_VND') != \"1.038,02 tỷ\")"
   ]
  },
  {
   "cell_type": "code",
   "execution_count": 27,
   "metadata": {},
   "outputs": [],
   "source": [
    "# Điều kiện lọc: Đếm số lượng dấu '.' và ',' trong cột 'Area'\n",
    "condition = (col('Area').rlike(r'\\.\\d+') & col('Area').rlike(r',\\d+'))\n",
    "# Lọc bỏ những dòng thỏa mãn điều kiện\n",
    "df_filtered = df.filter(~condition)"
   ]
  },
  {
   "cell_type": "code",
   "execution_count": 28,
   "metadata": {},
   "outputs": [],
   "source": [
    "# Hàm chuyển đổi giá sang VND\n",
    "def convert_price(price):\n",
    "    if price is None:\n",
    "        return None  # Tương đương với np.nan trong PySpark\n",
    "    if not isinstance(price, str):\n",
    "        return float(price)\n",
    "\n",
    "    # Xử lý chuỗi giá\n",
    "    price = price.replace(' nghìn', '')\n",
    "    price = price.replace('/m²', '')\n",
    "    price = price.replace('/tháng', '')\n",
    "    price = price.replace(',', '.')  # Thay đổi dấu ',' thành '.'\n",
    "\n",
    "    if ' tỷ' in price:\n",
    "        price = price.replace(' tỷ', '')\n",
    "        price = float(price) * 1000  # Chuyển tỷ thành triệu VND\n",
    "    elif ' triệu' in price:\n",
    "        price = price.replace(' triệu', '')\n",
    "        price = float(price)  # Chuyển thành triệu VND\n",
    "    return float(price)\n",
    "\n",
    "# Định nghĩa UDF cho hàm chuyển đổi\n",
    "convert_price_udf = udf(convert_price, FloatType())\n",
    "\n",
    "# Áp dụng UDF cho cột 'Price' và tạo cột mới 'Price_million_VND'\n",
    "df = df.withColumn('Price_million_VND', convert_price_udf(col('Price_million_VND')))\n"
   ]
  },
  {
   "cell_type": "code",
   "execution_count": 29,
   "metadata": {},
   "outputs": [],
   "source": [
    "# Xử lý cột 'Area': thay thế ' m²' và ',' -> '.' rồi chuyển thành kiểu float\n",
    "df = df.withColumn('Area_m2', regexp_replace(col('Area_m2'), ' m²', ''))\n",
    "df = df.withColumn('Area_m2', regexp_replace(col('Area_m2'), ',', '.').cast('float'))"
   ]
  },
  {
   "cell_type": "code",
   "execution_count": 30,
   "metadata": {},
   "outputs": [],
   "source": [
    "# Tách cột 'Place' thành 'District' và 'City'\n",
    "df = df.withColumn('District', split(col('Place'), ',').getItem(0))\n",
    "df = df.withColumn('City', split(col('Place'), ',').getItem(1))\n",
    "\n",
    "# Xóa cột 'Place'\n",
    "df = df.drop('Place')"
   ]
  },
  {
   "cell_type": "code",
   "execution_count": 31,
   "metadata": {},
   "outputs": [
    {
     "name": "stdout",
     "output_type": "stream",
     "text": [
      "+--------------------+-----------------+-------+--------------------+-----------+------------+----------------+\n",
      "|                Type|Price_million_VND|Area_m2|                Link|Updated_Day|    District|            City|\n",
      "+--------------------+-----------------+-------+--------------------+-----------+------------+----------------+\n",
      "|     Căn hộ chung cư|           1580.0|   65.0|https://batdongsa...| 2024-10-11|    Thuận An|      Bình Dương|\n",
      "|     Căn hộ chung cư|           6200.0|  120.0|https://batdongsa...| 2024-10-11|   Long Biên|          Hà Nội|\n",
      "|     Căn hộ chung cư|           2200.0|   43.0|https://batdongsa...| 2024-10-11|     Gia Lâm|          Hà Nội|\n",
      "|     Căn hộ chung cư|           3800.0|   92.0|https://batdongsa...| 2024-10-11|     Hà Đông|          Hà Nội|\n",
      "|           Nhà riêng|           2200.0|   30.0|https://batdongsa...| 2024-10-11|     Hà Đông|          Hà Nội|\n",
      "|     Căn hộ chung cư|           1900.0|   38.0|https://batdongsa...| 2024-10-11|  Bình Thạnh|     Hồ Chí Minh|\n",
      "|             Đất bán|           2650.0|   60.0|https://batdongsa...| 2024-10-11|Ngũ Hành Sơn|         Đà Nẵng|\n",
      "|Nhà biệt thự liền kề|          15500.0|   90.0|https://batdongsa...| 2024-10-11|     Hà Đông|          Hà Nội|\n",
      "|           Nhà riêng|           5000.0|  100.0|https://batdongsa...| 2024-10-11|      Quận 7|     Hồ Chí Minh|\n",
      "|             Đất bán|           1700.0|  106.0|https://batdongsa...| 2024-10-11|      Phù Cừ|        Hưng Yên|\n",
      "|     Căn hộ chung cư|           3600.0|   63.0|https://batdongsa...| 2024-10-11| Nam Từ Liêm|          Hà Nội|\n",
      "|Nhà biệt thự liền kề|           6500.0|  100.0|https://batdongsa...| 2024-10-11|      Quận 9|     Hồ Chí Minh|\n",
      "|Nhà biệt thự liền kề|          30000.0|  409.0|https://batdongsa...| 2024-10-11|     Mê Linh|          Hà Nội|\n",
      "|Nhà biệt thự liền kề|          30000.0|  154.0|https://batdongsa...| 2024-10-11|     Thủ Đức|     Hồ Chí Minh|\n",
      "|           Nhà riêng|           5500.0|   57.0|https://batdongsa...| 2024-10-11|      Quận 7|     Hồ Chí Minh|\n",
      "|     Căn hộ chung cư|           6000.0|   64.0|https://batdongsa...| 2024-10-11|      Quận 2|     Hồ Chí Minh|\n",
      "|         Nhà mặt phố|          41900.0|  190.0|https://batdongsa...| 2024-10-11|  Bình Thạnh|     Hồ Chí Minh|\n",
      "|             Đất bán|           1750.0|  225.0|https://batdongsa...| 2024-10-11|    Châu Đức| Bà Rịa Vũng Tàu|\n",
      "|           Shophouse|           7000.0|  105.0|https://batdongsa...| 2024-10-11|    Kim Bảng|          Hà Nam|\n",
      "|         Nhà mặt phố|           9700.0|   75.0|https://batdongsa...| 2024-10-11|      Quận 7|     Hồ Chí Minh|\n",
      "+--------------------+-----------------+-------+--------------------+-----------+------------+----------------+\n",
      "only showing top 20 rows\n",
      "\n"
     ]
    }
   ],
   "source": [
    "df.show()"
   ]
  },
  {
   "cell_type": "code",
   "execution_count": 32,
   "metadata": {},
   "outputs": [],
   "source": [
    "# Tính toán cột 'Price_per_m2' và làm tròn tới 2 chữ số thập phân\n",
    "df = df.withColumn('Price_per_m2', round(col('Price_million_VND') / col('Area_m2'), 2))"
   ]
  },
  {
   "cell_type": "code",
   "execution_count": 33,
   "metadata": {},
   "outputs": [
    {
     "name": "stdout",
     "output_type": "stream",
     "text": [
      "+--------------------+-----------------+-------+--------------------+-----------+------------+----------------+------------+\n",
      "|                Type|Price_million_VND|Area_m2|                Link|Updated_Day|    District|            City|Price_per_m2|\n",
      "+--------------------+-----------------+-------+--------------------+-----------+------------+----------------+------------+\n",
      "|     Căn hộ chung cư|           1580.0|   65.0|https://batdongsa...| 2024-10-11|    Thuận An|      Bình Dương|       24.31|\n",
      "|     Căn hộ chung cư|           6200.0|  120.0|https://batdongsa...| 2024-10-11|   Long Biên|          Hà Nội|       51.67|\n",
      "|     Căn hộ chung cư|           2200.0|   43.0|https://batdongsa...| 2024-10-11|     Gia Lâm|          Hà Nội|       51.16|\n",
      "|     Căn hộ chung cư|           3800.0|   92.0|https://batdongsa...| 2024-10-11|     Hà Đông|          Hà Nội|        41.3|\n",
      "|           Nhà riêng|           2200.0|   30.0|https://batdongsa...| 2024-10-11|     Hà Đông|          Hà Nội|       73.33|\n",
      "|     Căn hộ chung cư|           1900.0|   38.0|https://batdongsa...| 2024-10-11|  Bình Thạnh|     Hồ Chí Minh|        50.0|\n",
      "|             Đất bán|           2650.0|   60.0|https://batdongsa...| 2024-10-11|Ngũ Hành Sơn|         Đà Nẵng|       44.17|\n",
      "|Nhà biệt thự liền kề|          15500.0|   90.0|https://batdongsa...| 2024-10-11|     Hà Đông|          Hà Nội|      172.22|\n",
      "|           Nhà riêng|           5000.0|  100.0|https://batdongsa...| 2024-10-11|      Quận 7|     Hồ Chí Minh|        50.0|\n",
      "|             Đất bán|           1700.0|  106.0|https://batdongsa...| 2024-10-11|      Phù Cừ|        Hưng Yên|       16.04|\n",
      "|     Căn hộ chung cư|           3600.0|   63.0|https://batdongsa...| 2024-10-11| Nam Từ Liêm|          Hà Nội|       57.14|\n",
      "|Nhà biệt thự liền kề|           6500.0|  100.0|https://batdongsa...| 2024-10-11|      Quận 9|     Hồ Chí Minh|        65.0|\n",
      "|Nhà biệt thự liền kề|          30000.0|  409.0|https://batdongsa...| 2024-10-11|     Mê Linh|          Hà Nội|       73.35|\n",
      "|Nhà biệt thự liền kề|          30000.0|  154.0|https://batdongsa...| 2024-10-11|     Thủ Đức|     Hồ Chí Minh|      194.81|\n",
      "|           Nhà riêng|           5500.0|   57.0|https://batdongsa...| 2024-10-11|      Quận 7|     Hồ Chí Minh|       96.49|\n",
      "|     Căn hộ chung cư|           6000.0|   64.0|https://batdongsa...| 2024-10-11|      Quận 2|     Hồ Chí Minh|       93.75|\n",
      "|         Nhà mặt phố|          41900.0|  190.0|https://batdongsa...| 2024-10-11|  Bình Thạnh|     Hồ Chí Minh|      220.53|\n",
      "|             Đất bán|           1750.0|  225.0|https://batdongsa...| 2024-10-11|    Châu Đức| Bà Rịa Vũng Tàu|        7.78|\n",
      "|           Shophouse|           7000.0|  105.0|https://batdongsa...| 2024-10-11|    Kim Bảng|          Hà Nam|       66.67|\n",
      "|         Nhà mặt phố|           9700.0|   75.0|https://batdongsa...| 2024-10-11|      Quận 7|     Hồ Chí Minh|      129.33|\n",
      "+--------------------+-----------------+-------+--------------------+-----------+------------+----------------+------------+\n",
      "only showing top 20 rows\n",
      "\n"
     ]
    }
   ],
   "source": [
    "df.show()"
   ]
  }
 ],
 "metadata": {
  "kernelspec": {
   "display_name": "base",
   "language": "python",
   "name": "python3"
  },
  "language_info": {
   "codemirror_mode": {
    "name": "ipython",
    "version": 3
   },
   "file_extension": ".py",
   "mimetype": "text/x-python",
   "name": "python",
   "nbconvert_exporter": "python",
   "pygments_lexer": "ipython3",
   "version": "3.11.5"
  }
 },
 "nbformat": 4,
 "nbformat_minor": 2
}
